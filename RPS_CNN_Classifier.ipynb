{
 "cells": [
  {
   "cell_type": "code",
   "execution_count": 49,
   "metadata": {},
   "outputs": [],
   "source": [
    "# Libraries\n",
    "\n",
    "import os, shutil, keras\n",
    "import numpy as np\n",
    "import pandas as pd\n",
    "import matplotlib.pyplot as plt\n",
    "\n",
    "from keras import layers\n",
    "from keras import models\n",
    "\n",
    "from keras.models import Sequential\n",
    "from keras.layers import Conv2D, Convolution2D, MaxPooling2D, Flatten, Dense, Dropout\n",
    "\n",
    "from keras.preprocessing.image import ImageDataGenerator"
   ]
  },
  {
   "cell_type": "code",
   "execution_count": 2,
   "metadata": {},
   "outputs": [
    {
     "name": "stdout",
     "output_type": "stream",
     "text": [
      "Model: \"sequential_1\"\n",
      "_________________________________________________________________\n",
      "Layer (type)                 Output Shape              Param #   \n",
      "=================================================================\n",
      "conv2d_1 (Conv2D)            (None, 148, 148, 32)      896       \n",
      "_________________________________________________________________\n",
      "max_pooling2d_1 (MaxPooling2 (None, 74, 74, 32)        0         \n",
      "_________________________________________________________________\n",
      "conv2d_2 (Conv2D)            (None, 72, 72, 64)        18496     \n",
      "_________________________________________________________________\n",
      "max_pooling2d_2 (MaxPooling2 (None, 36, 36, 64)        0         \n",
      "_________________________________________________________________\n",
      "conv2d_3 (Conv2D)            (None, 34, 34, 128)       73856     \n",
      "_________________________________________________________________\n",
      "max_pooling2d_3 (MaxPooling2 (None, 17, 17, 128)       0         \n",
      "_________________________________________________________________\n",
      "flatten_1 (Flatten)          (None, 36992)             0         \n",
      "_________________________________________________________________\n",
      "dense_1 (Dense)              (None, 128)               4735104   \n",
      "_________________________________________________________________\n",
      "dense_2 (Dense)              (None, 3)                 387       \n",
      "=================================================================\n",
      "Total params: 4,828,739\n",
      "Trainable params: 4,828,739\n",
      "Non-trainable params: 0\n",
      "_________________________________________________________________\n"
     ]
    }
   ],
   "source": [
    "# Model\n",
    "\n",
    "model = models.Sequential()\n",
    "\n",
    "model.add(Conv2D(32, (3, 3), activation='relu',\n",
    "input_shape=(150, 150, 3)))\n",
    "model.add(layers.MaxPooling2D((2, 2)))\n",
    "\n",
    "model.add(Conv2D(64, (3, 3), activation='relu'))\n",
    "model.add(MaxPooling2D((2, 2)))\n",
    "\n",
    "model.add(Conv2D(128, (3, 3), activation='relu'))\n",
    "model.add(MaxPooling2D((2, 2)))\n",
    "\n",
    "model.add(Flatten())\n",
    "\n",
    "model.add(Dense(128, activation='relu'))\n",
    "#model.add(Dropout(0.5))\n",
    "model.add(Dense(3, activation = 'softmax'))\n",
    "\n",
    "\n",
    "# Save model & summary\n",
    "\n",
    "model.save('rps_model.h5')\n",
    "model.summary()"
   ]
  },
  {
   "cell_type": "code",
   "execution_count": 3,
   "metadata": {},
   "outputs": [],
   "source": [
    "# Compile model for training\n",
    "from keras import optimizers\n",
    "\n",
    "model.compile(loss='categorical_crossentropy', \n",
    "    optimizer =keras.optimizers.Adam(learning_rate=1e-4, beta_1=0.9, beta_2=0.999, amsgrad=False),\n",
    "    metrics=['acc'])"
   ]
  },
  {
   "cell_type": "code",
   "execution_count": 4,
   "metadata": {},
   "outputs": [],
   "source": [
    "#directories with training, validation, test images (already split)\n",
    "\n",
    "train_dir = os.path.abspath(\"/Users/Nadia/Desktop/FinalProject490/train\")\n",
    "validation_dir = os.path.abspath(\"/Users/Nadia/Desktop/FinalProject490/validation\")\n",
    "test_dir = os.path.abspath(\"/Users/Nadia/Desktop/FinalProject490/test\")\n",
    "\n",
    "#test_all_dir = os.path.abspath(\"/Users/Nadia/Desktop/FinalProject490/test0\")\n",
    "\n",
    "train_rock = os.path.join(train_dir, \"train_rock\")\n",
    "train_paper = os.path.join(train_dir, \"train_paper\")\n",
    "train_scissors = os.path.join(train_dir, \"train_scissors\")\n",
    "\n",
    "validation_rock = os.path.join(validation_dir, \"validation_rock\")\n",
    "validation_paper = os.path.join(validation_dir, \"validation_paper\")\n",
    "validation_scissors = os.path.join(validation_dir, \"validation_scissors\")\n",
    "\n",
    "test_rock = os.path.join(test_dir, \"test_rock\")\n",
    "test_paper = os.path.join(test_dir, \"test_paper\")\n",
    "test_scissors = os.path.join(test_dir, \"test_scissors\")\n"
   ]
  },
  {
   "cell_type": "code",
   "execution_count": 5,
   "metadata": {},
   "outputs": [
    {
     "name": "stdout",
     "output_type": "stream",
     "text": [
      "Found 1531 images belonging to 3 classes.\n",
      "Found 437 images belonging to 3 classes.\n",
      "Found 220 images belonging to 3 classes.\n"
     ]
    }
   ],
   "source": [
    "# data-augmentation generators\n",
    "train_datagen = ImageDataGenerator(\n",
    "    rescale=1./255,\n",
    "    rotation_range=40,\n",
    "    width_shift_range=0.2,\n",
    "    height_shift_range=0.2,\n",
    "    shear_range=0.2,\n",
    "    zoom_range=0.2,\n",
    "    horizontal_flip=True)\n",
    "\n",
    "validation_datagen = ImageDataGenerator(rescale=1./255)\n",
    "\n",
    "test_datagen = ImageDataGenerator(rescale=1./255)\n",
    "\n",
    "train_generator = train_datagen.flow_from_directory(\n",
    "    train_dir,  #target directory\n",
    "    target_size = (150, 150),\n",
    "    batch_size = 16,\n",
    "    shuffle = True,\n",
    "    class_mode = 'categorical')\n",
    "\n",
    "validation_generator = validation_datagen.flow_from_directory(\n",
    "    validation_dir,  #target directory\n",
    "    target_size = (150, 150),\n",
    "    batch_size = 16,\n",
    "    shuffle = True,\n",
    "    class_mode = 'categorical')\n",
    "\n",
    "test_generator = test_datagen.flow_from_directory(\n",
    "    test_dir,  #target directory\n",
    "    target_size = (150, 150),\n",
    "    batch_size = 1,\n",
    " #   shuffle = True,\n",
    "    class_mode = 'categorical')\n"
   ]
  },
  {
   "cell_type": "code",
   "execution_count": 6,
   "metadata": {},
   "outputs": [
    {
     "data": {
      "text/plain": [
       "{'train_paper': 0, 'train_rock': 1, 'train_scissors': 2}"
      ]
     },
     "execution_count": 6,
     "metadata": {},
     "output_type": "execute_result"
    }
   ],
   "source": [
    "train_generator.class_indices"
   ]
  },
  {
   "cell_type": "code",
   "execution_count": 7,
   "metadata": {},
   "outputs": [
    {
     "data": {
      "text/plain": [
       "{'test_paper': 0, 'test_rock': 1, 'test_scissors': 2}"
      ]
     },
     "execution_count": 7,
     "metadata": {},
     "output_type": "execute_result"
    }
   ],
   "source": [
    "test_generator.class_indices"
   ]
  },
  {
   "cell_type": "code",
   "execution_count": 8,
   "metadata": {},
   "outputs": [
    {
     "name": "stdout",
     "output_type": "stream",
     "text": [
      "Epoch 1/30\n",
      "100/100 [==============================] - 91s 907ms/step - loss: 1.0704 - acc: 0.4245 - val_loss: 0.9329 - val_acc: 0.5691\n",
      "Epoch 2/30\n",
      "100/100 [==============================] - 66s 665ms/step - loss: 0.9836 - acc: 0.5273 - val_loss: 0.9166 - val_acc: 0.7121\n",
      "Epoch 3/30\n",
      "100/100 [==============================] - 81s 811ms/step - loss: 0.8446 - acc: 0.6439 - val_loss: 0.5965 - val_acc: 0.8753\n",
      "Epoch 4/30\n",
      "100/100 [==============================] - 67s 675ms/step - loss: 0.6243 - acc: 0.7743 - val_loss: 0.4155 - val_acc: 0.8612\n",
      "Epoch 5/30\n",
      "100/100 [==============================] - 68s 675ms/step - loss: 0.4783 - acc: 0.8458 - val_loss: 0.1760 - val_acc: 0.9480\n",
      "Epoch 6/30\n",
      "100/100 [==============================] - 64s 640ms/step - loss: 0.3705 - acc: 0.8777 - val_loss: 0.3796 - val_acc: 0.7995\n",
      "Epoch 7/30\n",
      "100/100 [==============================] - 51s 507ms/step - loss: 0.3840 - acc: 0.8690 - val_loss: 0.0681 - val_acc: 0.9769\n",
      "Epoch 8/30\n",
      "100/100 [==============================] - 64s 638ms/step - loss: 0.2889 - acc: 0.9157 - val_loss: 0.0767 - val_acc: 0.9794\n",
      "Epoch 9/30\n",
      "100/100 [==============================] - 62s 620ms/step - loss: 0.2826 - acc: 0.9069 - val_loss: 0.0723 - val_acc: 0.9524\n",
      "Epoch 10/30\n",
      "100/100 [==============================] - 68s 681ms/step - loss: 0.2410 - acc: 0.9191 - val_loss: 0.1073 - val_acc: 0.9658\n",
      "Epoch 11/30\n",
      "100/100 [==============================] - 62s 624ms/step - loss: 0.2530 - acc: 0.9091 - val_loss: 0.0927 - val_acc: 0.9692\n",
      "Epoch 12/30\n",
      "100/100 [==============================] - 44s 440ms/step - loss: 0.2417 - acc: 0.9252 - val_loss: 0.2625 - val_acc: 0.9383\n",
      "Epoch 13/30\n",
      "100/100 [==============================] - 42s 419ms/step - loss: 0.2293 - acc: 0.9197 - val_loss: 0.0620 - val_acc: 0.9704\n",
      "Epoch 14/30\n",
      "100/100 [==============================] - 58s 580ms/step - loss: 0.2055 - acc: 0.9323 - val_loss: 0.0229 - val_acc: 0.9871\n",
      "Epoch 15/30\n",
      "100/100 [==============================] - 65s 649ms/step - loss: 0.2046 - acc: 0.9287 - val_loss: 0.0527 - val_acc: 0.9861\n",
      "Epoch 16/30\n",
      "100/100 [==============================] - 65s 646ms/step - loss: 0.2039 - acc: 0.9310 - val_loss: 0.0069 - val_acc: 0.9859\n",
      "Epoch 17/30\n",
      "100/100 [==============================] - 57s 569ms/step - loss: 0.1678 - acc: 0.9486 - val_loss: 0.0333 - val_acc: 0.9884\n",
      "Epoch 18/30\n",
      "100/100 [==============================] - 49s 487ms/step - loss: 0.1551 - acc: 0.9528 - val_loss: 0.0629 - val_acc: 0.9949\n",
      "Epoch 19/30\n",
      "100/100 [==============================] - 55s 552ms/step - loss: 0.1551 - acc: 0.9473 - val_loss: 0.0708 - val_acc: 0.9899\n",
      "Epoch 20/30\n",
      "100/100 [==============================] - 52s 524ms/step - loss: 0.1786 - acc: 0.9373 - val_loss: 0.0358 - val_acc: 0.9100\n",
      "Epoch 21/30\n",
      "100/100 [==============================] - 43s 432ms/step - loss: 0.1773 - acc: 0.9404 - val_loss: 0.0534 - val_acc: 0.9846\n",
      "Epoch 22/30\n",
      "100/100 [==============================] - 46s 456ms/step - loss: 0.1837 - acc: 0.9417 - val_loss: 0.0281 - val_acc: 0.9936\n",
      "Epoch 23/30\n",
      "100/100 [==============================] - 44s 442ms/step - loss: 0.1310 - acc: 0.9586 - val_loss: 0.0889 - val_acc: 0.9679\n",
      "Epoch 24/30\n",
      "100/100 [==============================] - 42s 419ms/step - loss: 0.1391 - acc: 0.9555 - val_loss: 0.0114 - val_acc: 0.9975\n",
      "Epoch 25/30\n",
      "100/100 [==============================] - 43s 427ms/step - loss: 0.1306 - acc: 0.9561 - val_loss: 0.0042 - val_acc: 0.9923\n",
      "Epoch 26/30\n",
      "100/100 [==============================] - 46s 458ms/step - loss: 0.1255 - acc: 0.9586 - val_loss: 0.0202 - val_acc: 0.9871\n",
      "Epoch 27/30\n",
      "100/100 [==============================] - 47s 468ms/step - loss: 0.1481 - acc: 0.9484 - val_loss: 0.1552 - val_acc: 0.9794\n",
      "Epoch 28/30\n",
      "100/100 [==============================] - 75s 746ms/step - loss: 0.1257 - acc: 0.9556 - val_loss: 0.0204 - val_acc: 0.9807\n",
      "Epoch 29/30\n",
      "100/100 [==============================] - 74s 739ms/step - loss: 0.1313 - acc: 0.9574 - val_loss: 0.1614 - val_acc: 0.9696\n",
      "Epoch 30/30\n",
      "100/100 [==============================] - 69s 692ms/step - loss: 0.1392 - acc: 0.9524 - val_loss: 0.0296 - val_acc: 0.9961\n"
     ]
    }
   ],
   "source": [
    "# Run model\n",
    "history = model.fit_generator(\n",
    "    train_generator,\n",
    "    steps_per_epoch = 100,\n",
    "    epochs = 30,\n",
    "    validation_data = validation_generator,\n",
    "    validation_steps = 50)"
   ]
  },
  {
   "cell_type": "code",
   "execution_count": 10,
   "metadata": {},
   "outputs": [
    {
     "data": {
      "image/png": "[encoded data removed]",
      "text/plain": [
       "<Figure size 432x288 with 1 Axes>"
      ]
     },
     "metadata": {
      "needs_background": "light"
     },
     "output_type": "display_data"
    },
    {
     "data": {
      "image/png": "[encoded data removed]",
      "text/plain": [
       "<Figure size 432x288 with 1 Axes>"
      ]
     },
     "metadata": {
      "needs_background": "light"
     },
     "output_type": "display_data"
    }
   ],
   "source": [
    "# display acc & loss curves during training and validation\n",
    "import matplotlib.pyplot as plt\n",
    "acc = history.history['acc']\n",
    "val_acc = history.history['val_acc']\n",
    "loss = history.history['loss']\n",
    "val_loss = history.history['val_loss']\n",
    "epochs = range(1, len(acc) + 1)\n",
    "plt.plot(epochs, acc, 'bo', label='Training acc')\n",
    "plt.plot(epochs, val_acc, 'b', label='Validation acc')\n",
    "plt.title('Training and validation accuracy')\n",
    "plt.legend()\n",
    "plt.figure()\n",
    "plt.plot(epochs, loss, 'bo', label='Training loss')\n",
    "plt.plot(epochs, val_loss, 'b', label='Validation loss')\n",
    "plt.title('Training and validation loss')\n",
    "plt.legend()\n",
    "plt.show()"
   ]
  },
  {
   "cell_type": "code",
   "execution_count": 12,
   "metadata": {},
   "outputs": [
    {
     "name": "stdout",
     "output_type": "stream",
     "text": [
      "1.0\n"
     ]
    }
   ],
   "source": [
    "# Validation accuracy\n",
    "score, acc = model.evaluate_generator(validation_generator, steps=5)\n",
    "print(acc)"
   ]
  },
  {
   "cell_type": "code",
   "execution_count": 13,
   "metadata": {},
   "outputs": [
    {
     "name": "stdout",
     "output_type": "stream",
     "text": [
      "1.0\n"
     ]
    }
   ],
   "source": [
    "# Testing accuracy\n",
    "score, acc = model.evaluate_generator(test_generator, steps=5)\n",
    "print(acc)"
   ]
  }
 ],
 "metadata": {
  "kernelspec": {
   "display_name": "Python 3",
   "language": "python",
   "name": "python3"
  },
  "language_info": {
   "codemirror_mode": {
    "name": "ipython",
    "version": 3
   },
   "file_extension": ".py",
   "mimetype": "text/x-python",
   "name": "python",
   "nbconvert_exporter": "python",
   "pygments_lexer": "ipython3",
   "version": "3.7.4"
  }
 },
 "nbformat": 4,
 "nbformat_minor": 4
}
